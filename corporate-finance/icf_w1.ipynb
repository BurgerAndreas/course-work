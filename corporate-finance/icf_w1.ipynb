{
 "cells": [
  {
   "cell_type": "code",
   "execution_count": 35,
   "metadata": {},
   "outputs": [],
   "source": [
    "import numpy as np\n",
    "import math as m"
   ]
  },
  {
   "attachments": {},
   "cell_type": "markdown",
   "metadata": {},
   "source": [
    "# Time Value of Money"
   ]
  },
  {
   "cell_type": "code",
   "execution_count": 36,
   "metadata": {},
   "outputs": [],
   "source": [
    "def pv_maturity(t_end, r, c_end):\n",
    "    \"\"\"Return the present value of a maturity.\n",
    "    t_end: number of periods\n",
    "    r: interest rate\n",
    "    c_end: cash flow at the end of the period\n",
    "    \"\"\"\n",
    "    # pv0 = c_end * (1+r)^-t\n",
    "    return c_end * ((1 + r) ** -t_end)\n",
    "\n",
    "def pv_annuity(t_end, r, c, ci):\n",
    "    \"\"\"Return the present value of a series of cash flows = annuity.\n",
    "    t_end: number of periods\n",
    "    r: interest rate\n",
    "    c: cash flow\n",
    "    ci: initial investment\n",
    "    \"\"\"\n",
    "    # pv0 = ct * (1+r)^-t\n",
    "    return ci + c * ((1 - (1 + r) ** -t_end) / r)\n",
    "\n",
    "def nv_final_annuity(t_end, r, c, ci):\n",
    "    \"\"\"Return the final nominal value of a series of cash flows = annuity.\n",
    "    t_end: number of periods\n",
    "    r: interest rate\n",
    "    c: cash flow\n",
    "    ci: initial investment\n",
    "    \"\"\"\n",
    "    # nv0 = pv0 * (1+r)^t \n",
    "    # (present value compounded over t periods)\n",
    "    return ci + c * ((1 - (1 + r) ** -t_end) / r) * (1 + r) ** t_end\n",
    "\n",
    "def rate_annuity(t_end, c, i):\n",
    "    \"\"\"Return the interest rate of a savings account.\n",
    "    t_end: number of periods\n",
    "    c: cash flow\n",
    "    ci: initial investment\n",
    "    \"\"\"\n",
    "    return (1 - (1 + r) ** -t_end) / (i + c * t_end)\n",
    "\n",
    "def rate_maturity(t_end, ci, c_end):\n",
    "    \"\"\"Return the interest rate of a maturity.\n",
    "    t_end: number of periods\n",
    "    c_end: cash flow at the end of the period\n",
    "    ci: initial investment\n",
    "    \"\"\"\n",
    "    # c_end = i * (1+r)^t\n",
    "    # r = (c_end / i)^(1/t) - 1\n",
    "    return (c_end / ci) ** (1 / t_end) - 1\n",
    "\n",
    "def initial_given_cashflow(t_end, r, c, ci, c_end):\n",
    "    \"\"\"Return how much you need now to withdraw (cash flow) later.\n",
    "    t_end: number of periods\n",
    "    r: interest rate\n",
    "    c: periodic cash flow\n",
    "    i: initial cash flow\n",
    "    c_end: cash flow at the end of the period\n",
    "    \"\"\"\n",
    "    return ci + c * ((1 - (1 + r) ** -t_end) / r) + c_end * ((1 + r) ** -t_end)\n",
    "\n",
    "def rate_tax_adjusted(r, r_tax):\n",
    "    \"\"\"Return the effective interest rate of a savings account under tax.\n",
    "    r_tax: tax rate\n",
    "    r: interest rate\n",
    "    \"\"\"\n",
    "    return r * (1 - r_tax)\n"
   ]
  },
  {
   "attachments": {},
   "cell_type": "markdown",
   "metadata": {},
   "source": [
    "You will receive an inheritance of $500,000 in 20 years on your 40th birthday. \n",
    "What is the value of the inheritance today if the discount rate is 10%?"
   ]
  },
  {
   "cell_type": "code",
   "execution_count": 37,
   "metadata": {},
   "outputs": [
    {
     "name": "stdout",
     "output_type": "stream",
     "text": [
      "7.432181401207172\n"
     ]
    }
   ],
   "source": [
    "pv0 = pv_maturity(20, 0.1, 50)\n",
    "print(pv0)"
   ]
  },
  {
   "attachments": {},
   "cell_type": "markdown",
   "metadata": {},
   "source": [
    "Q4:\n",
    "What is the present value (i.e., price) today of a bond that will pay its owner \n",
    "$1,000,000 five years from today if the discount rate is \n",
    "4% per annum? \n",
    "\n",
    "(This is called a zero-coupon or pure discount bond)"
   ]
  },
  {
   "cell_type": "code",
   "execution_count": 38,
   "metadata": {},
   "outputs": [
    {
     "name": "stdout",
     "output_type": "stream",
     "text": [
      "8.219271067593517\n"
     ]
    }
   ],
   "source": [
    "pv0 = pv_maturity(5, 0.04, 10)\n",
    "print(pv0)"
   ]
  },
  {
   "attachments": {},
   "cell_type": "markdown",
   "metadata": {},
   "source": [
    "Q3:\n",
    "Imagine that you deposit \n",
    "$6,000 a year, starting one year from today, for four years into a savings account paying \n",
    "6% per annum. \n",
    "\n",
    "(That is one deposit of \n",
    "$6,000 per year.)\n",
    "\n",
    "How much money will you have immediately after you make your fourth and final deposit?"
   ]
  },
  {
   "cell_type": "code",
   "execution_count": 39,
   "metadata": {},
   "outputs": [
    {
     "name": "stdout",
     "output_type": "stream",
     "text": [
      "26.247696000000026\n"
     ]
    }
   ],
   "source": [
    "pv0 = nv_final_annuity(t_end=4, r=0.06, c=6, ci=0)\n",
    "print(pv0)"
   ]
  },
  {
   "attachments": {},
   "cell_type": "markdown",
   "metadata": {},
   "source": [
    "Q4:\n",
    "Imagine that your goal is to retire 34 years from today with \n",
    "$1,000,000 in savings. Assuming that you currently (i.e., today) have \n",
    "$5,000 in savings, what rate of return must you earn on that savings to hit your goal? \n",
    "\n",
    "(Hint: Solve your future value formula for the discount rate, R)"
   ]
  },
  {
   "cell_type": "code",
   "execution_count": 40,
   "metadata": {},
   "outputs": [
    {
     "data": {
      "text/plain": [
       "0.168630866153056"
      ]
     },
     "execution_count": 40,
     "metadata": {},
     "output_type": "execute_result"
    }
   ],
   "source": [
    "rate_maturity(t_end=34, ci=5, c_end=1000)"
   ]
  },
  {
   "attachments": {},
   "cell_type": "markdown",
   "metadata": {},
   "source": [
    "Q5: \n",
    "Assume that a bond makes 30 equal annual payments of \n",
    "$1,000 starting one year from today. (This security is sometimes referred to as an amortizing bond.)\n",
    "\n",
    "If the discount rate is \n",
    "3.5% per annum, what is the current price of the bond?\n",
    "\n",
    "(Hint: Recognize that this cash flow stream is an annuity and that the price of an asset is the present value of its future cash flows.)"
   ]
  },
  {
   "cell_type": "code",
   "execution_count": 41,
   "metadata": {},
   "outputs": [
    {
     "name": "stdout",
     "output_type": "stream",
     "text": [
      "18.392045411362787\n"
     ]
    }
   ],
   "source": [
    "pv0 = pv_annuity(t_end=30, r=0.035, c=1, ci=0)\n",
    "print(pv0)"
   ]
  },
  {
   "attachments": {},
   "cell_type": "markdown",
   "metadata": {},
   "source": [
    "Q6: \n",
    "Assume that a bond makes 10 equal annual payments of \n",
    "$1,000 starting one year from today. The bond will make an additional payment of \n",
    "$100,000 at the end of the last year, year 10. (This security is sometimes referred to as a coupon bond.)\n",
    "\n",
    "If the discount rate is \n",
    "3.5% per annum, what is the current price of the bond?"
   ]
  },
  {
   "cell_type": "code",
   "execution_count": 42,
   "metadata": {},
   "outputs": [
    {
     "name": "stdout",
     "output_type": "stream",
     "text": [
      "79.20848669355516\n"
     ]
    }
   ],
   "source": [
    "pv0_a = pv_annuity(t_end=10, r=0.035, c=1, ci=0)\n",
    "pv0_m = pv_maturity(t_end=10, r=0.035, c_end=100)\n",
    "print(pv0_a + pv0_m)"
   ]
  },
  {
   "attachments": {},
   "cell_type": "markdown",
   "metadata": {},
   "source": [
    "Q7: \n",
    "Your daughter will start college one year from today, at which time the first tuition payment of \n",
    "$58,000 must be made. Assuming that tuition does not increase over time and that your daughter remains in school for four years, how much money do you need today in your savings account, earning \n",
    "5% per annum, in order to make the tuition payments over the next four years?"
   ]
  },
  {
   "cell_type": "code",
   "execution_count": 43,
   "metadata": {},
   "outputs": [
    {
     "data": {
      "text/plain": [
       "205.66512924141705"
      ]
     },
     "execution_count": 43,
     "metadata": {},
     "output_type": "execute_result"
    }
   ],
   "source": [
    "initial_given_cashflow(t_end=4, r=0.05, c=58, ci=0, c_end=0)"
   ]
  },
  {
   "attachments": {},
   "cell_type": "markdown",
   "metadata": {},
   "source": [
    "Q8:\n",
    "Imagine that the government decided to fund its current deficit of \n",
    "$431 billion dollars by issuing a perpetuity offering a \n",
    "4% annual return. How much would the government have to pay bondholders each year in perpetuity?\n",
    "\n",
    "(Hint: The \n",
    "$431 billion is just the present value of these cash flows at a discount rate of \n",
    "4%.)"
   ]
  },
  {
   "cell_type": "code",
   "execution_count": 44,
   "metadata": {},
   "outputs": [
    {
     "data": {
      "text/plain": [
       "17.240000000000002"
      ]
     },
     "execution_count": 44,
     "metadata": {},
     "output_type": "execute_result"
    }
   ],
   "source": [
    "431 * 0.04"
   ]
  },
  {
   "attachments": {},
   "cell_type": "markdown",
   "metadata": {},
   "source": [
    "Q9: \n",
    "A home equity line of credit (HELOC) is, loosely speaking, like a credit card for your home. You can borrow money by drawing down on the line of credit. But, because the borrowed money is for the purpose of your home, the interest is tax-deductible meaning that you can deduct the interest paid on this money from your income to reduce your taxes. If the current annual interest rate on a HELOC is \n",
    "3.85% and your tax rate is \n",
    "32%, what is the after-tax interest rate you will pay on any borrowings under the HELOC?"
   ]
  },
  {
   "cell_type": "code",
   "execution_count": 45,
   "metadata": {},
   "outputs": [
    {
     "name": "stdout",
     "output_type": "stream",
     "text": [
      "0.28150000000000003\n",
      "0.7072282891315652\n",
      "0.3328133125325013\n",
      "0.01232\n",
      "0.02618\n"
     ]
    },
    {
     "data": {
      "text/plain": [
       "0.02618"
      ]
     },
     "execution_count": 45,
     "metadata": {},
     "output_type": "execute_result"
    }
   ],
   "source": [
    "r_heloc = 0.0385\n",
    "r_tax = 0.32\n",
    "\n",
    "rate_tax_adjusted(r_heloc, r_tax)"
   ]
  },
  {
   "attachments": {},
   "cell_type": "markdown",
   "metadata": {},
   "source": [
    "Q10: \n",
    "Your daughter will start college one year from today, at which time the first tuition payment of \n",
    "$58,000 must be made. Assume that tuition does not increase over time and that your daughter remains in school for four years. How much money do you need today in your savings account, earning \n",
    "5% per annum, in order to make the tuition payments over the next four years, provided that you have to pay \n",
    "35% per annum in taxes on any earnings (e.g., interest on the savings)?"
   ]
  },
  {
   "cell_type": "code",
   "execution_count": 46,
   "metadata": {},
   "outputs": [
    {
     "name": "stdout",
     "output_type": "stream",
     "text": [
      "0.033999999999999996\n"
     ]
    },
    {
     "data": {
      "text/plain": [
       "213.54530220895413"
      ]
     },
     "execution_count": 46,
     "metadata": {},
     "output_type": "execute_result"
    }
   ],
   "source": [
    "rr = rate_tax_adjusted(r=0.05, r_tax=0.32)\n",
    "print(rr)\n",
    "initial_given_cashflow(t_end=4, r=rr, c=58, ci=0, c_end=0)\n"
   ]
  }
 ],
 "metadata": {
  "kernelspec": {
   "display_name": "nn",
   "language": "python",
   "name": "python3"
  },
  "language_info": {
   "codemirror_mode": {
    "name": "ipython",
    "version": 3
   },
   "file_extension": ".py",
   "mimetype": "text/x-python",
   "name": "python",
   "nbconvert_exporter": "python",
   "pygments_lexer": "ipython3",
   "version": "3.11.0"
  },
  "orig_nbformat": 4
 },
 "nbformat": 4,
 "nbformat_minor": 2
}
