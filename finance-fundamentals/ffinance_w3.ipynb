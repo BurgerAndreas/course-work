{
 "cells": [
  {
   "cell_type": "code",
   "execution_count": 44,
   "metadata": {},
   "outputs": [],
   "source": [
    "from ffinance_functions import *"
   ]
  },
  {
   "attachments": {},
   "cell_type": "markdown",
   "metadata": {},
   "source": [
    "### Q 1\n",
    "Company TYK forecasts that it will begin paying dividends seven years from now, at which point dividends are $1 per share. Thereafter, dividends are expected to growth at a constant rate of 6% per year. The discount rate for TYK is 10%. How much would you pay for one share in Company TYK?"
   ]
  },
  {
   "cell_type": "code",
   "execution_count": 45,
   "metadata": {},
   "outputs": [
    {
     "name": "stdout",
     "output_type": "stream",
     "text": [
      "present value = 25.00\n",
      "pv0 = 12.83\n"
     ]
    }
   ],
   "source": [
    "# stock is just a perpetuity\n",
    "pv7 = pv_growing_perpetuity(c=1, g=0.06, r=0.1)\n",
    "\n",
    "# discount the perpetuity back to today\n",
    "pv0 = pv7 / (1 + 0.1)**7\n",
    "\n",
    "# the present value of the stock is the same as the present value of the perpetuity\n",
    "print(f'pv0 = {pv0:.2f}')"
   ]
  },
  {
   "attachments": {},
   "cell_type": "markdown",
   "metadata": {},
   "source": [
    "### Q 2\n",
    "Golf Ball Inc. expects earnings to be $10,000 per year in perpetuity if it pays out all of its earnings in dividends. Suppose the firm has an opportunity to invest $1,000 of next year's earnings to upgrade its machinery. It is expected that this upgrade will increase earnings in all future years (starting two years from now) by $140. Assume that Golf Ball's next dividend is one year from now. The required rate of return is 12%. \n",
    "\n",
    "What is the value of Golf Ball Inc. if it does not undertake the upgrade?"
   ]
  },
  {
   "cell_type": "code",
   "execution_count": 46,
   "metadata": {},
   "outputs": [
    {
     "name": "stdout",
     "output_type": "stream",
     "text": [
      "present value of perpetuity = 83333.33\n"
     ]
    }
   ],
   "source": [
    "pv = pv_perpetuity(a=10000, r=0.12)"
   ]
  },
  {
   "attachments": {},
   "cell_type": "markdown",
   "metadata": {},
   "source": [
    "### Q 3\n",
    "What is the value of Golf Ball Inc. if it undertakes the upgrade? "
   ]
  },
  {
   "cell_type": "code",
   "execution_count": 47,
   "metadata": {},
   "outputs": [
    {
     "name": "stdout",
     "output_type": "stream",
     "text": [
      "present value of annuity = 8035.71\n",
      "present value of perpetuity = 84500.00\n",
      "value stock today = 83482.14\n"
     ]
    }
   ],
   "source": [
    "# one year 10k-1k dividend\n",
    "pv_year1 = pv_annuity(a=9000, r=0.12, n=1)\n",
    "\n",
    "# perpetuily 10k+0.14k dividend\n",
    "pv1_perpetuity = pv_perpetuity(a=10140, r=0.12)\n",
    "pv0_perpetuity = pv1_perpetuity / (1 + 0.12)**1\n",
    "\n",
    "print(f'value stock today = {pv_year1 + pv0_perpetuity:.2f}')"
   ]
  },
  {
   "attachments": {},
   "cell_type": "markdown",
   "metadata": {},
   "source": [
    "### Q 4 \n",
    "Suppose that the consensus forecast of security analysts of your favorite company is that earnings next year will be $5.00 per share. The company plows back 50% of its earnings and if the Chief Financial Officer (CFO) estimates that the company's return on equity (ROE) is 16%. Assuming the plowback ratio and the ROE are expected to remain constant forever:\n",
    "\n",
    "If you believe that the company's required rate of return is 10%, what is your estimate of the price of the company's stock?"
   ]
  },
  {
   "cell_type": "code",
   "execution_count": 48,
   "metadata": {},
   "outputs": [
    {
     "name": "stdout",
     "output_type": "stream",
     "text": [
      "present value = 125.00\n",
      "all good\n"
     ]
    }
   ],
   "source": [
    "earnings = 5\n",
    "# plowback ratio = retained earnings / earnings\n",
    "b = 0.5\n",
    "# next years dividend\n",
    "d = earnings * (1 - b)\n",
    "# return on equity = earnings / equity\n",
    "roe = 0.16\n",
    "r = 0.1\n",
    "\n",
    "# earnings growth rate = dividend growth rate\n",
    "# if b and roe are constant\n",
    "g = roe * b\n",
    "\n",
    "# constant growth perpetuity\n",
    "p = pv_growing_perpetuity(c=d, g=g, r=r)\n",
    "\n",
    "# only applies if r > b * roe\n",
    "print('all good' if r > b * roe else 'all bad')"
   ]
  },
  {
   "attachments": {},
   "cell_type": "markdown",
   "metadata": {},
   "source": [
    "### Q 5\n",
    "Suppose you observe that the stock is selling for $50.00 per share, what would you conclude about either your belief of the stock’s required rate of return or the CFO’s estimate of the company’s return on equity?  (select all that apply)\n",
    "\n",
    "the ROE on funds plowed back is more than originally estimated\n",
    "\n",
    "-> the ROE on funds plowed back is less than originally estimated (money inside the company is worth less)\n",
    "\n",
    "the required rate of return is lower than originally expected\n",
    "\n",
    "-> the required rate of return is higher than originally expected (money outside the company is worth more)\n"
   ]
  },
  {
   "cell_type": "code",
   "execution_count": 49,
   "metadata": {},
   "outputs": [
    {
     "name": "stdout",
     "output_type": "stream",
     "text": [
      "all good\n",
      "present value = 166.67\n",
      "- stock price is higher if roe is higher\n",
      "all good\n",
      "present value = 83.33\n",
      "- stock price is lower if rate of return is higher\n"
     ]
    }
   ],
   "source": [
    "# market value = 50 \n",
    "# is less than value calculated above = 250\n",
    "\n",
    "# test higher roe\n",
    "roe1 = roe + 0.01\n",
    "g1 = roe1 * b\n",
    "# only applies if r > b * roe\n",
    "print('all good' if r > g1 else 'all bad')\n",
    "#\n",
    "p1 = pv_growing_perpetuity(c=d, g=g1, r=r)\n",
    "print('- stock price is', 'higher' if p1 > p else 'lower', 'if roe is higher')\n",
    "\n",
    "# test higher rate of return\n",
    "r2 = r + 0.01\n",
    "# only applies if r > b * roe\n",
    "print('all good' if r2 > g else 'all bad')\n",
    "#\n",
    "p2 = pv_growing_perpetuity(c=d, g=g, r=r2)\n",
    "print('- stock price is', 'higher' if p2 > p else 'lower', 'if rate of return is higher')\n"
   ]
  },
  {
   "attachments": {},
   "cell_type": "markdown",
   "metadata": {},
   "source": [
    "### Q 6\n",
    "Suppose that you are confident that 10% is the required rate of return on the stock. What does the market price of $50.00 per share imply about the market’s estimate of the company’s expected return on equity? (please give a number)"
   ]
  },
  {
   "cell_type": "code",
   "execution_count": 50,
   "metadata": {},
   "outputs": [
    {
     "name": "stdout",
     "output_type": "stream",
     "text": [
      "roe = 0.10\n"
     ]
    }
   ],
   "source": [
    "earnings = 5\n",
    "# plowback ratio = retained earnings / earnings\n",
    "b = 0.5\n",
    "# next years dividend\n",
    "d = earnings * (1 - b)\n",
    "p = 50\n",
    "r = 0.1\n",
    "# p = d / (r - g)\n",
    "# g = r - (d / p)\n",
    "# g = roe * b\n",
    "roe = (r - (d / p)) / b\n",
    "\n",
    "print(f'roe = {roe:.2f}')"
   ]
  },
  {
   "attachments": {},
   "cell_type": "markdown",
   "metadata": {},
   "source": [
    "### Q 7\n",
    "Dividends on CCN corporation are expected to grow at a 9% per year. Assume that the discount rate on CCN is 12% and that the expected dividend per share in one year is $0.50. CCN has just paid a dividend, so the next dividend is the $0.50 to be paid one year from now.\n",
    "\n",
    "Calculate today's price per share for CCN."
   ]
  },
  {
   "cell_type": "code",
   "execution_count": 55,
   "metadata": {},
   "outputs": [
    {
     "name": "stdout",
     "output_type": "stream",
     "text": [
      "present value = 83.33\n"
     ]
    }
   ],
   "source": [
    "earnings = 5\n",
    "# plowback ratio = retained earnings / earnings\n",
    "b = 0.5\n",
    "# next years dividend\n",
    "d = earnings * (1 - b)\n",
    "g = 0.09\n",
    "r = 0.12\n",
    "\n",
    "p = pv_growing_perpetuity(c=d, g=g, r=r)"
   ]
  },
  {
   "attachments": {},
   "cell_type": "markdown",
   "metadata": {},
   "source": [
    "### Q 8\n",
    "Calculate the expected price per share 14 years from now. Assume that a dividend has just been paid."
   ]
  },
  {
   "cell_type": "code",
   "execution_count": 52,
   "metadata": {},
   "outputs": [
    {
     "name": "stdout",
     "output_type": "stream",
     "text": [
      "present value = 55.70\n",
      "discounted value = 11.40\n"
     ]
    }
   ],
   "source": [
    "d14 = d * (1 + g)**14\n",
    "p14 = pv_growing_perpetuity(c=d14, g=g, r=r)\n",
    "\n",
    "# discount back to today\n",
    "p0 = p14 / (1 + r)**14\n",
    "print(f'discounted value = {p0:.2f}')"
   ]
  },
  {
   "attachments": {},
   "cell_type": "markdown",
   "metadata": {},
   "source": [
    "### Q 9\n",
    "Assume that CCN's return on equity (ROE) is 12%. What fraction of earnings must CCN be plowing back into the company?"
   ]
  },
  {
   "cell_type": "code",
   "execution_count": 53,
   "metadata": {},
   "outputs": [
    {
     "name": "stdout",
     "output_type": "stream",
     "text": [
      "plowback ratio = 0.75 = 0.75\n"
     ]
    }
   ],
   "source": [
    "roe = 0.12\n",
    "g = 0.09\n",
    "# g = roe * b\n",
    "b = g / roe\n",
    "\n",
    "print(f'plowback ratio = {b:.2f} = {3/4}')"
   ]
  },
  {
   "attachments": {},
   "cell_type": "markdown",
   "metadata": {},
   "source": [
    "### Q 10\n",
    "Dividends on CCN corporation are expected to grow at a 9% per year. Assume that the discount rate on CCN is 12% and that the expected dividend per share in one year is $0.50. CCN has just paid a dividend, so the next dividend is the $0.50 to be paid one year from now.\n",
    "\n",
    "Can CCN alter its price by altering the plowback ratio in the previous question?\n",
    "\n",
    "-> No \n",
    "because if roe is the same as the discount rate \n",
    "it doesn't matter how much they plow back (reinvest into the company), \n",
    "because money inside the company is worth the same as money outside the company\n",
    "\n"
   ]
  },
  {
   "cell_type": "code",
   "execution_count": 54,
   "metadata": {},
   "outputs": [],
   "source": [
    "r = 0.12\n",
    "d = 0.5"
   ]
  }
 ],
 "metadata": {
  "kernelspec": {
   "display_name": "Python 3",
   "language": "python",
   "name": "python3"
  },
  "language_info": {
   "codemirror_mode": {
    "name": "ipython",
    "version": 3
   },
   "file_extension": ".py",
   "mimetype": "text/x-python",
   "name": "python",
   "nbconvert_exporter": "python",
   "pygments_lexer": "ipython3",
   "version": "3.11.0"
  },
  "orig_nbformat": 4
 },
 "nbformat": 4,
 "nbformat_minor": 2
}
