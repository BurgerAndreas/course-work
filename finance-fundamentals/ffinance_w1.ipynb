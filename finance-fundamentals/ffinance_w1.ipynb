{
 "cells": [
  {
   "cell_type": "code",
   "execution_count": 1,
   "metadata": {},
   "outputs": [],
   "source": [
    "from ffinance_functions import *"
   ]
  },
  {
   "attachments": {},
   "cell_type": "markdown",
   "metadata": {},
   "source": [
    "### Q1\n",
    "If the present value of $280 paid one year from now is $250, what is the one-year discount factor?"
   ]
  },
  {
   "cell_type": "code",
   "execution_count": 2,
   "metadata": {},
   "outputs": [
    {
     "name": "stdout",
     "output_type": "stream",
     "text": [
      "r = 0.12\n",
      "df = 0.89\n"
     ]
    }
   ],
   "source": [
    "r = one_year_interest_rate(pv=250, c1=280)\n",
    "df = one_year_discount_factor(r=r)"
   ]
  },
  {
   "attachments": {},
   "cell_type": "markdown",
   "metadata": {},
   "source": [
    "### Q2\n",
    "If the present value of $400 paid one year from now is $320, what is the one-year interest rate?  (Note:  this number is also known as the discount rate.)"
   ]
  },
  {
   "cell_type": "code",
   "execution_count": 3,
   "metadata": {},
   "outputs": [
    {
     "name": "stdout",
     "output_type": "stream",
     "text": [
      "r = 0.25\n"
     ]
    },
    {
     "data": {
      "text/plain": [
       "0.25"
      ]
     },
     "execution_count": 3,
     "metadata": {},
     "output_type": "execute_result"
    }
   ],
   "source": [
    "one_year_interest_rate(pv=320, c1=400)"
   ]
  },
  {
   "attachments": {},
   "cell_type": "markdown",
   "metadata": {},
   "source": [
    "### Q3\n",
    "Lara Beal allocates wealth between two periods: youth and old age. Currently (in her youth) she has $8,000 in cash. She can lend and borrow at the bank at 15% (that is, lending $1 in youth will give her $1.15 in old age). Her only investment opportunity other than the bank is a project that costs $5,000 now in her youth and has a payoff of $6,000 in her old age.  What is the most she can consume in her old age?"
   ]
  },
  {
   "cell_type": "code",
   "execution_count": 4,
   "metadata": {},
   "outputs": [
    {
     "name": "stdout",
     "output_type": "stream",
     "text": [
      "NPV = 217.39, do it!\n",
      "C1 = C0 * (1 + r)^n = 3450.00\n",
      "Money at old age = 9450.00\n"
     ]
    }
   ],
   "source": [
    "r = 0.15\n",
    "c1_project = 6000\n",
    "npv_project = one_year_npv(c0=-5000, c1=c1_project, r=r)\n",
    "\n",
    "# do the project for 5000 and put the other 3000 in the bank\n",
    "c1_bank = compounding(c0=3000, r=r, n=1)\n",
    "print(f\"Money at old age = {c1_bank + c1_project:.2f}\")"
   ]
  },
  {
   "attachments": {},
   "cell_type": "markdown",
   "metadata": {},
   "source": [
    "### Q4\n",
    "James Bennett also allocates wealth between youth and old age. He has no cash currently (in his youth), but will inherit $3000 in his old age. He can lend and borrow at the bank at 18% (that is, lending $1 in youth will give him $1.18 in old age). He has an investment opportunity that costs $12,000 now in his youth and has a payoff of $15,000 in his old age. This is the only investment opportunity available to him. What is the most he can consume in his youth?"
   ]
  },
  {
   "cell_type": "code",
   "execution_count": 5,
   "metadata": {},
   "outputs": [
    {
     "name": "stdout",
     "output_type": "stream",
     "text": [
      "NPV = 2542.37, do it!\n",
      "NPV = 711.86, do it!\n",
      "Money he can consume now = 3254.24\n"
     ]
    }
   ],
   "source": [
    "# present value of 3000 in 1 year\n",
    "r = .18\n",
    "npv_inheritance = one_year_npv(c0=0, c1=3000, r=r)\n",
    "npv_investment = one_year_npv(c0=-12000, c1=15000, r=r)\n",
    "# assume no money left at old age. borrow money equal to the inheritance and the investment\n",
    "print(f\"Money he can consume now = {npv_inheritance + npv_investment:.2f}\")"
   ]
  },
  {
   "attachments": {},
   "cell_type": "markdown",
   "metadata": {},
   "source": [
    "### Q5\n",
    "Which of the following investments do you prefer?\n",
    "\n",
    "(a)  Purchase a bond with a single payment of $1000 in ten years, for a price of $550.\n",
    "\n",
    "(b)  Invest $550 for ten years in PNC Bank at a guaranteed annual interest rate of 4.5%."
   ]
  },
  {
   "cell_type": "code",
   "execution_count": 6,
   "metadata": {},
   "outputs": [
    {
     "name": "stdout",
     "output_type": "stream",
     "text": [
      "C10 = C0 * (1 + r)^n = 854.13\n",
      "bond\n"
     ]
    }
   ],
   "source": [
    "c1_bond = 1000\n",
    "c1_bank = compounding(c0=550, r=0.045, n=10)\n",
    "print(\"bank\" if c1_bank > c1_bond else \"bond\")"
   ]
  },
  {
   "attachments": {},
   "cell_type": "markdown",
   "metadata": {},
   "source": [
    "### Q6\n",
    "You have just applied for a 30-year $100,000 mortgage at a rate of 10%. What must the annual payment be?"
   ]
  },
  {
   "cell_type": "code",
   "execution_count": 7,
   "metadata": {},
   "outputs": [
    {
     "name": "stdout",
     "output_type": "stream",
     "text": [
      "mortgage payments per period = 10607.92\n"
     ]
    }
   ],
   "source": [
    "a = mortgage_payments(p=100000, r=0.1, n=30)"
   ]
  },
  {
   "attachments": {},
   "cell_type": "markdown",
   "metadata": {},
   "source": [
    "### Q7\n",
    "Which security do you choose if the annual interest rate is 5%? \n",
    "\n",
    "(a) an annuity that pays $10,000 at the end of each of the next 6 years\n",
    "\n",
    "\n",
    "(b) a perpetuity that pays $10,000 forever, but the first cash payment is 11 years from today"
   ]
  },
  {
   "cell_type": "code",
   "execution_count": 8,
   "metadata": {},
   "outputs": [
    {
     "name": "stdout",
     "output_type": "stream",
     "text": [
      "present value of annuity = 50756.92\n",
      "present value of perpetuity = 200000.00\n",
      "present value of future cash flow = 116935.86\n",
      "get perpetuity\n"
     ]
    }
   ],
   "source": [
    "pv_a = pv_annuity(a=10000, r=0.05, n=6)\n",
    "pv11_perpertuity = pv_perpetuity(a=10000, r=0.05)\n",
    "pv0_perpertuity = multi_year_pv(cn=pv11_perpertuity, n=11, r=0.05)\n",
    "\n",
    "print(\"get annuity\" if pv_a > pv0_perpertuity else \"get perpetuity\")"
   ]
  },
  {
   "attachments": {},
   "cell_type": "markdown",
   "metadata": {},
   "source": [
    "### Q8\n",
    "Assume the annual interest rate is 6%. Calculate the value of an investment that pays $100 every two years, starting two years from now and continuing forever."
   ]
  },
  {
   "cell_type": "code",
   "execution_count": 9,
   "metadata": {},
   "outputs": [
    {
     "name": "stdout",
     "output_type": "stream",
     "text": [
      "effective annual rate = 0.06\n",
      "present value of perpetuity = 1715.25\n",
      "periodic rate = 0.12\n",
      "present value of perpetuity = 833.33\n"
     ]
    }
   ],
   "source": [
    "# quoted rate = stated anual interest rate (SAIR) = annual periodic rate (APR) = wrong\n",
    "# effective rate = effective annual interest rate (EAIR) = correct\n",
    "sair = 0.06\n",
    "# use periodic rate\n",
    "pr = periodic_rate(r=sair, n=1/2)\n",
    "pv = pv_perpetuity(a=100, r=pr)\n"
   ]
  },
  {
   "attachments": {},
   "cell_type": "markdown",
   "metadata": {},
   "source": [
    "### Q9\n",
    "Suppose money invested in a hedge fund earns 1% per trading day. There are 250 trading days per year. What will be your annual return on $100 invested in the fund if the manager allows you to reinvest in the fund the 1% you earn each day?"
   ]
  },
  {
   "cell_type": "code",
   "execution_count": 12,
   "metadata": {},
   "outputs": [
    {
     "name": "stdout",
     "output_type": "stream",
     "text": [
      "C250 = C0 * (1 + r)^n = 1203.22\n",
      "money at the end 1203.22\n"
     ]
    }
   ],
   "source": [
    "# ear = ear_from_periodic_rate(pr=0.01, n=250)\n",
    "# print(f'annual return = {100*ear:.2f}')\n",
    "\n",
    "money = compounding(c0=100, r=.01, n=250)\n",
    "print(f'money at the end {money:.2f}')"
   ]
  },
  {
   "attachments": {},
   "cell_type": "markdown",
   "metadata": {},
   "source": [
    "### Q10\n",
    "Suppose money invested in a hedge fund earns 1% per trading day. There are 250 trading days per year. With an initial investment of $100, what will be your annual return assuming the manager puts all of your daily earnings into a zero-interest-bearing checking account and pays you everything earned at the end of the year?"
   ]
  },
  {
   "cell_type": "code",
   "execution_count": 11,
   "metadata": {},
   "outputs": [
    {
     "name": "stdout",
     "output_type": "stream",
     "text": [
      "C250 = 350.00\n",
      "money at the end 350.0\n"
     ]
    }
   ],
   "source": [
    "money = non_compounding(c0=100, r=.01, n=250)\n",
    "print(f'money at the end {money}')"
   ]
  }
 ],
 "metadata": {
  "kernelspec": {
   "display_name": "Python 3",
   "language": "python",
   "name": "python3"
  },
  "language_info": {
   "codemirror_mode": {
    "name": "ipython",
    "version": 3
   },
   "file_extension": ".py",
   "mimetype": "text/x-python",
   "name": "python",
   "nbconvert_exporter": "python",
   "pygments_lexer": "ipython3",
   "version": "3.11.1"
  },
  "orig_nbformat": 4
 },
 "nbformat": 4,
 "nbformat_minor": 2
}
