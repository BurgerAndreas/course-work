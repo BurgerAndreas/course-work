{
 "cells": [
  {
   "cell_type": "code",
   "execution_count": 78,
   "metadata": {},
   "outputs": [],
   "source": [
    "from ffinance_functions import *\n",
    "import math as m"
   ]
  },
  {
   "attachments": {},
   "cell_type": "markdown",
   "metadata": {},
   "source": [
    "### Q 1\n",
    "You are considering two possible marketing campaigns for a new product. \n",
    "\n",
    "The first marketing campaign requires an outlay next year of 2M, and then will pay 0.24M in all subsequent years. \n",
    "\n",
    "The second marketing campaign requires an outlay of 3M next year and then will pay 0.27M in all subsequent years.\n",
    "\n",
    "What is the IRR for the first marketing campaign?"
   ]
  },
  {
   "cell_type": "code",
   "execution_count": 79,
   "metadata": {},
   "outputs": [],
   "source": [
    "def question1(c_0, c_1):\n",
    "    # method 1: assume not a perpetuity\n",
    "    irr = (c_1 / -c_0) - 1\n",
    "    print(f\"IRR if do not assume perpetuity: {irr:.4f}\", '(method 1 - wrong)')\n",
    "\n",
    "    # method 2: assume perpetuity and some discount rate\n",
    "    r = 0.1\n",
    "    c_1_p = pv_perpetuity(a=c_1, r=r)\n",
    "    irr_p = (c_1_p / -c_0) - 1\n",
    "    print(f\"IRR: {irr_p:.4f}\", '(method 2 - wrong)')\n",
    "\n",
    "    # method 3: assume discount rate is irr\n",
    "    # irr = (c_1 / -c_0) - 1\n",
    "    # c_1 = a / irr\n",
    "    # irr = (a / irr) / -c_0 - 1\n",
    "    # irr^2 + irr + a/c_0 = 0\n",
    "    # x^2 + px + q = 0, x = (-p/2 +- sqrt((p/2)^2 - q)) \n",
    "    a = c_1\n",
    "    irr_31 = (-(1/2) + m.sqrt((1/4) - (a/c_0)))\n",
    "    irr_32 = (-(1/2) - m.sqrt((1/4) - (a/c_0)))\n",
    "    print(f\"IRR: {irr_31:.4f} or {irr_32:.4f}\", '(method 3 - wrong)')\n",
    "    return"
   ]
  },
  {
   "cell_type": "code",
   "execution_count": 80,
   "metadata": {},
   "outputs": [
    {
     "name": "stdout",
     "output_type": "stream",
     "text": [
      "IRR if do not assume perpetuity: -0.8800 (method 1 - wrong)\n",
      "present value of perpetuity = 2400000.00\n",
      "IRR: 0.2000 (method 2)\n",
      "IRR: 0.1083 or -1.1083 (method 3 - wrong)\n"
     ]
    }
   ],
   "source": [
    "c_0 = -2 * (10**6)\n",
    "c_1 = 0.24 * (10**6)\n",
    "\n",
    "question1(c_0, c_1)\n",
    "\n",
    "# TODO"
   ]
  },
  {
   "attachments": {},
   "cell_type": "markdown",
   "metadata": {},
   "source": [
    "### Q 2\n",
    "What is the IRR for the second marketing campaign?"
   ]
  },
  {
   "cell_type": "code",
   "execution_count": 81,
   "metadata": {},
   "outputs": [
    {
     "name": "stdout",
     "output_type": "stream",
     "text": [
      "IRR if do not assume perpetuity: -0.9100 (method 1 - wrong)\n",
      "present value of perpetuity = 2700000.00\n",
      "IRR: -0.1000 (method 2)\n",
      "IRR: 0.0831 or -1.0831 (method 3 - wrong)\n"
     ]
    }
   ],
   "source": [
    "\n",
    "c_0 = -3 * (10**6)\n",
    "c_1 = 0.27 * (10**6)\n",
    "\n",
    "question1(c_0, c_1)\n",
    "\n",
    "# TODO"
   ]
  },
  {
   "attachments": {},
   "cell_type": "markdown",
   "metadata": {},
   "source": [
    "### Q 3\n",
    "Suppose you have the following two mutually exclusive projects that you can carry out on the corner of 39th Street and Walnut Street: Build a daycare center  or a health spa. \n",
    "\n",
    "Suppose the day care center has the following cash flows: An immediate cash outlay of $5,000 followed by inflows of $2500 in each of the next 3 years and zero thereafter. \n",
    "\n",
    "Suppose the health spa has the following cash flows: An immediate outlay of $5,000 followed by inflows of nothing in year one, $1000 in year 2 and $7100 in year 3 and zero thereafter. \n",
    "\n",
    "Is the IRR for the health spa lower or higher than the IRR for the day care project?\n",
    "\n",
    "IRR for the health spa is LOWER than the IRR for the day care project\n",
    "\n",
    "-> IRR for the health spa is LOWER"
   ]
  },
  {
   "cell_type": "code",
   "execution_count": null,
   "metadata": {},
   "outputs": [],
   "source": [
    "# TODO"
   ]
  },
  {
   "attachments": {},
   "cell_type": "markdown",
   "metadata": {},
   "source": [
    "### Q 4\n",
    "If you base your investment decision on which investment has the highest NPV, which do you choose when the discount rate is 15%?"
   ]
  },
  {
   "cell_type": "code",
   "execution_count": 82,
   "metadata": {},
   "outputs": [
    {
     "name": "stdout",
     "output_type": "stream",
     "text": [
      "NPV: 708.06\n",
      "NPV: 424.51\n",
      "do daycare\n"
     ]
    }
   ],
   "source": [
    "r = 0.15\n",
    "\n",
    "npv_daycare = -5000\n",
    "npv_daycare += 2500 / (1 + r)\n",
    "npv_daycare += 2500 / (1 + r)**2\n",
    "npv_daycare += 2500 / (1 + r)**3\n",
    "print(\"NPV: {:.2f}\".format(npv_daycare))\n",
    "\n",
    "npv_healthspa = -5000\n",
    "npv_healthspa += 0\n",
    "npv_healthspa += 1000 / (1 + r)**2\n",
    "npv_healthspa += 7100 / (1 + r)**3\n",
    "print(\"NPV: {:.2f}\".format(npv_healthspa))\n",
    "\n",
    "print('do', 'daycare' if npv_daycare > npv_healthspa else 'healthspa')"
   ]
  },
  {
   "attachments": {},
   "cell_type": "markdown",
   "metadata": {},
   "source": [
    "### Q 5\n",
    "If you base your investment decision on which investment has the highest NPV, which do you choose when the discount rate is 5%?"
   ]
  },
  {
   "cell_type": "code",
   "execution_count": 83,
   "metadata": {},
   "outputs": [
    {
     "name": "stdout",
     "output_type": "stream",
     "text": [
      "NPV: 1808.12\n",
      "NPV: 2040.28\n",
      "do healthspa\n"
     ]
    }
   ],
   "source": [
    "r = 0.05\n",
    "\n",
    "npv_daycare = -5000\n",
    "npv_daycare += 2500 / (1 + r)\n",
    "npv_daycare += 2500 / (1 + r)**2\n",
    "npv_daycare += 2500 / (1 + r)**3\n",
    "print(\"NPV: {:.2f}\".format(npv_daycare))\n",
    "\n",
    "npv_healthspa = -5000\n",
    "npv_healthspa += 0\n",
    "npv_healthspa += 1000 / (1 + r)**2\n",
    "npv_healthspa += 7100 / (1 + r)**3\n",
    "print(\"NPV: {:.2f}\".format(npv_healthspa))\n",
    "\n",
    "print('do', 'daycare' if npv_daycare > npv_healthspa else 'healthspa')"
   ]
  },
  {
   "attachments": {},
   "cell_type": "markdown",
   "metadata": {},
   "source": [
    "### Q6\n",
    "You are considering the following two mutually exclusive investments:\n",
    "\n",
    "\n",
    "Project\n",
    "Year 0\n",
    "Year 1\n",
    "Year 2\n",
    "\n",
    "A\n",
    "-$80\n",
    "0\n",
    "$120\n",
    "\n",
    "B\n",
    "-$40\n",
    "$28\n",
    "$28\n",
    "\n",
    "Which project has the higher NPV if the required rate of return is 5%?\n",
    "\n"
   ]
  },
  {
   "cell_type": "code",
   "execution_count": 84,
   "metadata": {},
   "outputs": [
    {
     "name": "stdout",
     "output_type": "stream",
     "text": [
      "do project a\n"
     ]
    }
   ],
   "source": [
    "r = 0.05\n",
    "npv_a = -80 + 0 / (1 + r) + 120 / (1 + r)**2\n",
    "npv_b = -40 + 28 / (1 + r) + 28 / (1 + r)**2\n",
    "print('do project', 'a' if npv_a > npv_b else 'b')"
   ]
  },
  {
   "attachments": {},
   "cell_type": "markdown",
   "metadata": {},
   "source": [
    "### Q 7\n",
    "Which project has the higher NPV if the required rate of return is 15%?"
   ]
  },
  {
   "cell_type": "code",
   "execution_count": 85,
   "metadata": {},
   "outputs": [
    {
     "name": "stdout",
     "output_type": "stream",
     "text": [
      "do project a\n"
     ]
    }
   ],
   "source": [
    "r = 0.15\n",
    "npv_a = -80 + 0 / (1 + r) + 120 / (1 + r)**2\n",
    "npv_b = -40 + 28 / (1 + r) + 28 / (1 + r)**2\n",
    "print('do project', 'a' if npv_a > npv_b else 'b')"
   ]
  },
  {
   "attachments": {},
   "cell_type": "markdown",
   "metadata": {},
   "source": [
    "### Q 8\n",
    "Is the IRR of Project B larger or smaller than the IRR of Project A?\n",
    "\n",
    "-> IRR of Project B is larger "
   ]
  },
  {
   "cell_type": "code",
   "execution_count": null,
   "metadata": {},
   "outputs": [],
   "source": [
    "# TODO"
   ]
  },
  {
   "attachments": {},
   "cell_type": "markdown",
   "metadata": {},
   "source": [
    "### Q 9\n",
    "TEME is a manufacturer of toy construction equipment. If it pays out all of its earnings as dividends, it will have earnings of 0.3 million per quarter in perpetuity. Suppose that the discount rate, expressed as an effective annual rate (EAR), is 16%. TEME pays dividends quarterly.\n",
    "\n",
    "What is the value of TEME if it continues to pay out all of its earnings as dividends? Assume that the next dividend is paid one quarter from now."
   ]
  },
  {
   "cell_type": "code",
   "execution_count": 86,
   "metadata": {},
   "outputs": [
    {
     "name": "stdout",
     "output_type": "stream",
     "text": [
      "present value of perpetuity = 7.94\n"
     ]
    }
   ],
   "source": [
    "# # earnings = dividends\n",
    "# d = 0.3 \n",
    "# ear = 0.16\n",
    "# # periods per year\n",
    "# n = 4\n",
    "\n",
    "# print('- wrong method:')\n",
    "# pv = pv_perpetuity(a=d, r=ear)\n",
    "\n",
    "# periodic rate\n",
    "# 1 + ear = (1 + p)**n\n",
    "pr = (1 + ear)**(1/n) - 1\n",
    "pv = pv_perpetuity(a=d, r=pr)"
   ]
  },
  {
   "attachments": {},
   "cell_type": "markdown",
   "metadata": {},
   "source": [
    "### Q 10\n",
    "Suppose that TEME is considering a one-time expansion into toy xylophones. It is estimated that this will cost 1M. Assume that this cost will be incurred at the end of the year, one year from now. As a result of expansion, earnings in subsequent quarters (i.e. starting in 1 year and 1 quarter from now) would be 0.05 million higher than without the expansion. Calculate the value of TEME if it undertakes the investment.\n",
    "\n"
   ]
  },
  {
   "cell_type": "code",
   "execution_count": 87,
   "metadata": {},
   "outputs": [],
   "source": [
    "# TODO\n",
    "c0 = - 1 * (10**6)"
   ]
  }
 ],
 "metadata": {
  "kernelspec": {
   "display_name": "nn",
   "language": "python",
   "name": "python3"
  },
  "language_info": {
   "codemirror_mode": {
    "name": "ipython",
    "version": 3
   },
   "file_extension": ".py",
   "mimetype": "text/x-python",
   "name": "python",
   "nbconvert_exporter": "python",
   "pygments_lexer": "ipython3",
   "version": "3.11.0"
  },
  "orig_nbformat": 4
 },
 "nbformat": 4,
 "nbformat_minor": 2
}
