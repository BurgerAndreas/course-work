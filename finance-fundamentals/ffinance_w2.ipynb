{
 "cells": [
  {
   "cell_type": "code",
   "execution_count": 1,
   "metadata": {},
   "outputs": [],
   "source": [
    "from ffinance_functions import *"
   ]
  },
  {
   "attachments": {},
   "cell_type": "markdown",
   "metadata": {},
   "source": [
    "### Q 1\n",
    "Suppose that you have purchased a 3-year zero-coupon bond with face value of $1000 and a price of $850. If you hold the bond to maturity, what is your annual return?"
   ]
  },
  {
   "cell_type": "code",
   "execution_count": 2,
   "metadata": {},
   "outputs": [
    {
     "name": "stdout",
     "output_type": "stream",
     "text": [
      "holding period return = 0.0557\n",
      "annual money return = 55.67\n"
     ]
    }
   ],
   "source": [
    "ar = zero_coupon_bond_hpr(f=1000, p0=850, tm=3)\n",
    "print(f\"annual money return = {ar*1000:.2f}\")"
   ]
  },
  {
   "attachments": {},
   "cell_type": "markdown",
   "metadata": {},
   "source": [
    "### Q 2\n",
    "Now suppose you have purchased a 3-year bond with face value of $1000, a 7% annual coupon, and a price of $975. Is the yield to maturity greater or less than the annual return you computed for the bond in the previous question"
   ]
  },
  {
   "cell_type": "code",
   "execution_count": 3,
   "metadata": {},
   "outputs": [],
   "source": [
    "r = 0.07\n"
   ]
  },
  {
   "attachments": {},
   "cell_type": "markdown",
   "metadata": {},
   "source": [
    "### Q 3\n",
    "Suppose you bought a five-year zero-coupon Treasury bond for $800 per $1000 face value. What is the yield to maturity (annual compounding) on the bond?\n",
    "\n"
   ]
  },
  {
   "cell_type": "code",
   "execution_count": 4,
   "metadata": {},
   "outputs": [
    {
     "name": "stdout",
     "output_type": "stream",
     "text": [
      "yield to maturity = 0.0456\n"
     ]
    }
   ],
   "source": [
    "ytm = zero_coupon_bond_ytm(f=1000, p0=800, tm=5)"
   ]
  },
  {
   "attachments": {},
   "cell_type": "markdown",
   "metadata": {},
   "source": [
    "### Q 4\n",
    "Suppose you bought a five-year zero-coupon Treasury bond for $800 per $1000 face value. Assume the yield to maturity on comparable bonds increases to 7% after you purchase the bond and remains there. Calculate your holding period return (annual return) if you sell the bond after one year.\n",
    "\n"
   ]
  },
  {
   "cell_type": "code",
   "execution_count": 5,
   "metadata": {},
   "outputs": [
    {
     "name": "stdout",
     "output_type": "stream",
     "text": [
      "holding period return = -0.0464\n",
      "YTM 0.0456 -> 0.0700 after 1.00 years\n"
     ]
    },
    {
     "data": {
      "text/plain": [
       "-0.04638098494059362"
      ]
     },
     "execution_count": 5,
     "metadata": {},
     "output_type": "execute_result"
    }
   ],
   "source": [
    "# hpr is negative because YTM is higher than the original YTM\n",
    "zero_coupon_bond_hpr_middle(f=1000, p0=800, tm=5, th=1, ytm_sold=0.07)"
   ]
  },
  {
   "attachments": {},
   "cell_type": "markdown",
   "metadata": {},
   "source": [
    "### Q 5\n",
    "Suppose you bought a five-year zero-coupon Treasury bond for $800 per $1000 face value. Assuming yields to maturity on comparable bonds remain at 7%, calculate your holding period return if you sell the bond after two years.\n",
    "\n"
   ]
  },
  {
   "cell_type": "code",
   "execution_count": 6,
   "metadata": {},
   "outputs": [
    {
     "name": "stdout",
     "output_type": "stream",
     "text": [
      "holding period return = 0.0101\n",
      "YTM 0.0456 -> 0.0700 after 2.00 years\n"
     ]
    },
    {
     "data": {
      "text/plain": [
       "0.010134815811020825"
      ]
     },
     "execution_count": 6,
     "metadata": {},
     "output_type": "execute_result"
    }
   ],
   "source": [
    "zero_coupon_bond_hpr_middle(f=1000, p0=800, tm=5, th=2, ytm_sold=0.07)"
   ]
  },
  {
   "attachments": {},
   "cell_type": "markdown",
   "metadata": {},
   "source": [
    "### Q 6\n",
    "Suppose you bought a five-year zero-coupon Treasury bond for $800 per $1000 face value. Suppose after 3 years, the yield to maturity on comparable bonds declines to 3%. Calculate the holding period return if you sell the bond at that time.\n",
    "\n"
   ]
  },
  {
   "cell_type": "code",
   "execution_count": 7,
   "metadata": {},
   "outputs": [
    {
     "name": "stdout",
     "output_type": "stream",
     "text": [
      "holding period return = 0.0562\n",
      "YTM 0.0456 -> 0.0300 after 3.00 years\n"
     ]
    },
    {
     "data": {
      "text/plain": [
       "0.05619762811510709"
      ]
     },
     "execution_count": 7,
     "metadata": {},
     "output_type": "execute_result"
    }
   ],
   "source": [
    "zero_coupon_bond_hpr_middle(f=1000, p0=800, tm=5, th=3, ytm_sold=0.03)"
   ]
  },
  {
   "attachments": {},
   "cell_type": "markdown",
   "metadata": {},
   "source": [
    "### Q 7\n",
    "Assume the government issues a semi-annual bond that matures in 5 years with a face value of $1,000 a coupon yield of 10 percent. \n",
    "\n",
    "What would be the price if the yield to maturity (semi-annual compounding) on similar government bonds were 8%?\n",
    "\n"
   ]
  },
  {
   "cell_type": "code",
   "execution_count": 8,
   "metadata": {},
   "outputs": [
    {
     "name": "stdout",
     "output_type": "stream",
     "text": [
      "price = 1081.11\n",
      "price = 874.36\n",
      "price = 1081.11 (method 1)\n",
      "price = 1081.11 (method 2)\n"
     ]
    }
   ],
   "source": [
    "p0 = semi_annual_bond_price(cr=0.1, f=1000, ytm=0.08, tm=5)"
   ]
  },
  {
   "attachments": {},
   "cell_type": "markdown",
   "metadata": {},
   "source": [
    "### Q 8\n",
    "For each of the bonds and reinvestment rates listed below calculate the amount of money accumulated at the end from a $1000 initial investment. Assume annual compounding.\n",
    "\n",
    "Invest $1000 in a 5-year zero coupon bond with a yield to maturity of 9 percent.\n"
   ]
  },
  {
   "cell_type": "code",
   "execution_count": 9,
   "metadata": {},
   "outputs": [
    {
     "name": "stdout",
     "output_type": "stream",
     "text": [
      "x = 1538.62\n"
     ]
    }
   ],
   "source": [
    "ytm = 0.09\n",
    "\n",
    "# put in 1000 and get out x at the end of 5 years\n",
    "x = 1000 * (1 + ytm)**5\n",
    "\n",
    "print(f\"x = {x:.2f}\")"
   ]
  },
  {
   "attachments": {},
   "cell_type": "markdown",
   "metadata": {},
   "source": [
    "### Q 9\n",
    "Bond A is zero-coupon bond paying $100 one year from now. \n",
    "\n",
    "Bond B is a zero-coupon bond paying $100 two years from now. \n",
    "\n",
    "Bond C is a 10% coupon bond that pays $10 one year from now and $10 plus the $100 principal two years from now. \n",
    "\n",
    "The yield to maturity on bond A is 10%, and the price of bond B is $84.18. \n",
    "\n",
    "Assuming annual compounding, what is the price of Bond A?\n",
    "\n"
   ]
  },
  {
   "cell_type": "code",
   "execution_count": 10,
   "metadata": {},
   "outputs": [
    {
     "name": "stdout",
     "output_type": "stream",
     "text": [
      "p0_a = 90.91\n"
     ]
    }
   ],
   "source": [
    "ytm_a = 0.1\n",
    "f_a = 100\n",
    "tm_a = 1\n",
    "p0_a = 100 / (1 + ytm_a)**tm_a\n",
    "\n",
    "print(f\"p0_a = {p0_a:.2f}\")"
   ]
  },
  {
   "attachments": {},
   "cell_type": "markdown",
   "metadata": {},
   "source": [
    "### Q 10\n",
    "Assuming annual compounding, what is the yield to maturity on Bond B?\n",
    "\n"
   ]
  },
  {
   "cell_type": "code",
   "execution_count": 11,
   "metadata": {},
   "outputs": [
    {
     "name": "stdout",
     "output_type": "stream",
     "text": [
      "ytm_b = 0.0899\n"
     ]
    }
   ],
   "source": [
    "f_b = 100\n",
    "tm_b = 2\n",
    "p0_b = 84.18\n",
    "ytm_b = (f_b / p0_b)**(1/tm_b) - 1\n",
    "\n",
    "print(f\"ytm_b = {ytm_b:.4f}\")"
   ]
  }
 ],
 "metadata": {
  "kernelspec": {
   "display_name": "Python 3",
   "language": "python",
   "name": "python3"
  },
  "language_info": {
   "codemirror_mode": {
    "name": "ipython",
    "version": 3
   },
   "file_extension": ".py",
   "mimetype": "text/x-python",
   "name": "python",
   "nbconvert_exporter": "python",
   "pygments_lexer": "ipython3",
   "version": "3.11.0"
  },
  "orig_nbformat": 4
 },
 "nbformat": 4,
 "nbformat_minor": 2
}
