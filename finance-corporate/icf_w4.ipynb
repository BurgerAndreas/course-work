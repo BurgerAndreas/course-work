{
 "cells": [
  {
   "cell_type": "code",
   "execution_count": 18,
   "metadata": {},
   "outputs": [],
   "source": [
    "import numpy as np\n",
    "import math as m"
   ]
  },
  {
   "attachments": {},
   "cell_type": "markdown",
   "metadata": {},
   "source": [
    "# Return on Investment"
   ]
  },
  {
   "cell_type": "code",
   "execution_count": 19,
   "metadata": {},
   "outputs": [],
   "source": [
    "def npv_from_fcf(r, fcf=[]):\n",
    "    \"\"\"Calculate the net present value from a list of free cash flows.\n",
    "    ----------\n",
    "    r : discount rate\n",
    "    fcf : A list of free cash flows\n",
    "    \"\"\"\n",
    "    # npv = CF0/(1+r)^0 + CF1/(1+r)^1 + CF2/(1+r)^2 + ...\n",
    "    return sum([fcf[i] / (1 + r) ** i for i in range(len(fcf))])\n",
    "\n",
    "def iir_from_fcf(fcf=[1, 2]):\n",
    "    \"\"\"Calculate the internal rate of return from a list of free cash flows.\n",
    "    Discount rate such that the net present value of the free cash flows equals zero.\n",
    "    ----------\n",
    "    r : discount rate\n",
    "    fcf : A list of free cash flows\n",
    "    \"\"\"\n",
    "    if len(fcf) == 1:\n",
    "        # npv = CF0/(1+r)^0 = CF0\n",
    "        raise ValueError(\"No discount rate for less than one period.\")\n",
    "    if len(fcf) == 2:\n",
    "        # npv = CF0/(1+r)^0 + CF1/(1+r)^1 = CF0 + CF1/(1+r)\n",
    "        # r = (CF0 + CF1) / CF1 - 1\n",
    "        if fcf[1] < 0 and fcf[0] > 0:\n",
    "            raise ValueError(\"Negative before positive cash flows only.\")\n",
    "        return - fcf[1] / fcf[0] - 1\n",
    "    else:\n",
    "        raise ValueError(\"Get yourself a numeric solver.\")\n",
    "\n",
    "def irr_rule(irr, hurdle_rate=0.12):\n",
    "    \"\"\"Internal Rate of Return Rule.\n",
    "    ----------------\n",
    "    irr: Internal Rate of Return.\n",
    "    hurdle_rate: Cost of borrowing on capital markets. opportunity cost.\n",
    "    \"\"\"\n",
    "    return irr > hurdle_rate\n",
    "\n",
    "def npv_rule(npv):\n",
    "    \"\"\"Net Present Value Rule.\n",
    "    ----------------\n",
    "    npv: Net Present Value.\n",
    "    \"\"\"\n",
    "    return npv > 0"
   ]
  },
  {
   "attachments": {},
   "cell_type": "markdown",
   "metadata": {},
   "source": [
    "Q1:\n",
    "Jones Corp is evaluating a project that has the following annual free cash flows:\n",
    "\n",
    "Period 0 1 2\n",
    "Free Cash Flow -150 100 150\n",
    "\n",
    "If the project's discount rate is \n",
    "12%, then what is the NPV of the project?"
   ]
  },
  {
   "cell_type": "code",
   "execution_count": 20,
   "metadata": {},
   "outputs": [
    {
     "data": {
      "text/plain": [
       "58.86479591836732"
      ]
     },
     "execution_count": 20,
     "metadata": {},
     "output_type": "execute_result"
    }
   ],
   "source": [
    "npv_from_fcf(r=0.12, fcf=[-150, 100, 150])"
   ]
  },
  {
   "attachments": {},
   "cell_type": "markdown",
   "metadata": {},
   "source": [
    "Q2:\n",
    "Jones Corp is evaluating a project that has the following annual free cash flows:\n",
    "\n",
    "Period 0 1 2\n",
    "\n",
    "Free Cash Flow -200 150 -70\n",
    "\n",
    "If the project's discount rate is \n",
    "12%, then what is the NPV of the project?"
   ]
  },
  {
   "cell_type": "code",
   "execution_count": 21,
   "metadata": {},
   "outputs": [
    {
     "data": {
      "text/plain": [
       "-121.875"
      ]
     },
     "execution_count": 21,
     "metadata": {},
     "output_type": "execute_result"
    }
   ],
   "source": [
    "npv_from_fcf(r=0.12, fcf=[-200, 150, -70])"
   ]
  },
  {
   "attachments": {},
   "cell_type": "markdown",
   "metadata": {},
   "source": [
    "Q3:\n",
    "Fusion Energy is evaluating a project that has the following annual free cash flows:\n",
    "\n",
    "Period 0 1 2\n",
    "\n",
    "Free Cash Flow -500 250 300\n",
    "\n",
    "If the project's discount rate is \n",
    "27%, then what is the NPV of the project?"
   ]
  },
  {
   "cell_type": "code",
   "execution_count": 22,
   "metadata": {},
   "outputs": [
    {
     "data": {
      "text/plain": [
       "-117.14923429846857"
      ]
     },
     "execution_count": 22,
     "metadata": {},
     "output_type": "execute_result"
    }
   ],
   "source": [
    "npv_from_fcf(r=0.27, fcf=[-500, 250, 300])"
   ]
  },
  {
   "attachments": {},
   "cell_type": "markdown",
   "metadata": {},
   "source": [
    "Q4:\n",
    "Momo's Candy is evaluating a project that has the following annual free cash flows:\n",
    "\n",
    "Period 0 1 2\n",
    "\n",
    "Free Cash Flow -100 -100 250\n",
    "\n",
    "If the project's discount rate is \n",
    "10%, then what is the NPV of the project?"
   ]
  },
  {
   "cell_type": "code",
   "execution_count": 23,
   "metadata": {},
   "outputs": [
    {
     "data": {
      "text/plain": [
       "15.702479338842949"
      ]
     },
     "execution_count": 23,
     "metadata": {},
     "output_type": "execute_result"
    }
   ],
   "source": [
    "npv_from_fcf(r=0.10, fcf=[-100, -100, 250])"
   ]
  },
  {
   "attachments": {},
   "cell_type": "markdown",
   "metadata": {},
   "source": [
    "Q5:\n",
    "Fragile Express Delivery is evaluating a project that has the following annual free cash flows:\n",
    "\n",
    "Period 0 1 2\n",
    "\n",
    "Free Cash Flow -500 200 320\n",
    "\n",
    "If the project's discount rate is \n",
    "36%, then what is the NPV of the project?"
   ]
  },
  {
   "cell_type": "code",
   "execution_count": 24,
   "metadata": {},
   "outputs": [
    {
     "data": {
      "text/plain": [
       "-179.93079584775083"
      ]
     },
     "execution_count": 24,
     "metadata": {},
     "output_type": "execute_result"
    }
   ],
   "source": [
    "npv_from_fcf(r=0.36, fcf=[-500, 200, 320])"
   ]
  },
  {
   "attachments": {},
   "cell_type": "markdown",
   "metadata": {},
   "source": [
    "Q6:\n",
    "Donald’s Inc. is evaluating a project that has the following annual free cash flows:\n",
    "\n",
    "Period 0 1 2\n",
    "\n",
    "Free Cash Flow -175 200\n",
    "\n",
    "What is the project's IRR?"
   ]
  },
  {
   "cell_type": "code",
   "execution_count": 25,
   "metadata": {},
   "outputs": [
    {
     "data": {
      "text/plain": [
       "0.1428571428571428"
      ]
     },
     "execution_count": 25,
     "metadata": {},
     "output_type": "execute_result"
    }
   ],
   "source": [
    "iir_from_fcf(fcf=[-175, 200])"
   ]
  },
  {
   "attachments": {},
   "cell_type": "markdown",
   "metadata": {},
   "source": [
    "Q7:\n",
    "Jones Corp is evaluating a project that has the following annual free cash flows:\n",
    "\n",
    "Period 0 1 2\n",
    "\n",
    "Free Cash Flow 150 100\n",
    "\n",
    "What is the project's IRR?"
   ]
  },
  {
   "cell_type": "code",
   "execution_count": 26,
   "metadata": {},
   "outputs": [
    {
     "data": {
      "text/plain": [
       "-0.33333333333333337"
      ]
     },
     "execution_count": 26,
     "metadata": {},
     "output_type": "execute_result"
    }
   ],
   "source": [
    "iir_from_fcf(fcf=[-150, 100])"
   ]
  },
  {
   "attachments": {},
   "cell_type": "markdown",
   "metadata": {},
   "source": [
    "Q8:\n",
    "Fusion Energy is evaluating a project that has the following annual free cash flows:\n",
    "\n",
    "Period 0 1 2\n",
    "\n",
    "Free Cash Flow -500 250\n",
    "\n",
    "What is the project's IRR?"
   ]
  },
  {
   "cell_type": "code",
   "execution_count": 27,
   "metadata": {},
   "outputs": [
    {
     "data": {
      "text/plain": [
       "-0.5"
      ]
     },
     "execution_count": 27,
     "metadata": {},
     "output_type": "execute_result"
    }
   ],
   "source": [
    "iir_from_fcf(fcf=[-500, 250])"
   ]
  },
  {
   "attachments": {},
   "cell_type": "markdown",
   "metadata": {},
   "source": [
    "Q9:\n",
    "Momo's Candy is evaluating a project that has the following annual free cash flows:\n",
    "\n",
    "Period 0 1 \n",
    "\n",
    "Free Cash Flow -100 -100\n",
    "\n",
    "What is the project's IRR?"
   ]
  },
  {
   "cell_type": "code",
   "execution_count": 28,
   "metadata": {},
   "outputs": [
    {
     "data": {
      "text/plain": [
       "-2.0"
      ]
     },
     "execution_count": 28,
     "metadata": {},
     "output_type": "execute_result"
    }
   ],
   "source": [
    "iir_from_fcf(fcf=[-100, -100])"
   ]
  },
  {
   "attachments": {},
   "cell_type": "markdown",
   "metadata": {},
   "source": [
    "Q10:\n",
    "Fragile Express Delivery is evaluating a project that has the following annual free cash flows:\n",
    "\n",
    "Period 0 1 2\n",
    "\n",
    "Free Cash Flow -500 200\n",
    "\n",
    "What is the project's IRR?"
   ]
  },
  {
   "cell_type": "code",
   "execution_count": 29,
   "metadata": {},
   "outputs": [
    {
     "data": {
      "text/plain": [
       "-0.6"
      ]
     },
     "execution_count": 29,
     "metadata": {},
     "output_type": "execute_result"
    }
   ],
   "source": [
    "iir_from_fcf(fcf=[-500, 200])"
   ]
  }
 ],
 "metadata": {
  "kernelspec": {
   "display_name": "nn",
   "language": "python",
   "name": "python3"
  },
  "language_info": {
   "codemirror_mode": {
    "name": "ipython",
    "version": 3
   },
   "file_extension": ".py",
   "mimetype": "text/x-python",
   "name": "python",
   "nbconvert_exporter": "python",
   "pygments_lexer": "ipython3",
   "version": "3.11.0"
  },
  "orig_nbformat": 4
 },
 "nbformat": 4,
 "nbformat_minor": 2
}
