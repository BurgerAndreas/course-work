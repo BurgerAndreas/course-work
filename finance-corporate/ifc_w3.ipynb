{
 "cells": [
  {
   "cell_type": "code",
   "execution_count": 12,
   "metadata": {},
   "outputs": [],
   "source": [
    "import numpy as np\n",
    "import math as m"
   ]
  },
  {
   "attachments": {},
   "cell_type": "markdown",
   "metadata": {},
   "source": [
    "# Discounted Cash Flow Analysis"
   ]
  },
  {
   "cell_type": "code",
   "execution_count": 13,
   "metadata": {},
   "outputs": [],
   "source": [
    "def get_ebit(rev, cost, depr):\n",
    "    \"\"\"Earnings Before Interest and Taxes.\n",
    "    EBIT = Revenue - COGS - Operating Expenses\n",
    "    EBIT = Net Income + Interest + Taxes\n",
    "    ----------------\n",
    "    rev: Revenue.\n",
    "    cost: Cost.\n",
    "    depr: Depreciation.\n",
    "    \"\"\"\n",
    "    return rev - cost - depr\n",
    "\n",
    "def get_ebiat(ebit, tax):\n",
    "    \"\"\"Earnings Before Interest, Taxes, and Amortization.\n",
    "    Unlevered Net Income.\n",
    "    Net Operating Profit After Taxes (NOPAT).\n",
    "    Earnings Before Interest After Taxes (EBIAT).\n",
    "    ----------------\n",
    "    ebit: Earnings Before Interest and Taxes.\n",
    "    ir: Interest rate.\n",
    "    tax: Tax rate.\n",
    "    \"\"\"\n",
    "    return ebit * (1 - tax)\n",
    "\n",
    "def get_fcf(rev, cost, depr, tax, capex, dnwc):\n",
    "    \"\"\"Free Cash Flow.\n",
    "    Unlevered Free Cash Flow (UFCF).\n",
    "    Residual cash flow after all projects financing is met.\n",
    "    = cash flow available for distribution (debt and equity).\n",
    "    Different from EBITDA (Earnings Before Interest, Taxes, Depreciation, and Amortization).\n",
    "    Different from SCF (Statement Cash Flow).\n",
    "    ----------------\n",
    "    rev: Revenue.\n",
    "    cost: Cost.\n",
    "    depr: Depreciation.\n",
    "    tax: Tax rate.\n",
    "    capex: Capital Expenditures.\n",
    "    dnwc: Change in Net Working Capital.\n",
    "    \"\"\"\n",
    "    return (rev - cost - depr) * (1 - tax) + depr - capex - dnwc\n",
    "\n",
    "def get_fcf_from_ebiat(ebiat, depr, capex, dnwc):\n",
    "    \"\"\"Free Cash Flow from EBIAT.\n",
    "    ----------------\n",
    "    ebiat: Earnings Before Interest, Taxes, and Amortization.\n",
    "    depr: Depreciation.\n",
    "    capex: Capital Expenditures.\n",
    "    dnwc: Change in Net Working Capital.\n",
    "    \"\"\"\n",
    "    return ebiat + depr - capex - dnwc\n",
    "\n",
    "def get_fcfe(fcf, ir, tax, net_debt):\n",
    "    \"\"\"Free Cash Flow to Equity.\n",
    "    Levered Free Cash Flow (LFCF).\n",
    "    Leverage <-> Debt.\n",
    "    Residual cash flow after all projects and debt financing is met.\n",
    "    = cash flow available for distribution to shareholders (equity).\n",
    "    ----------------\n",
    "    fcf: Free Cash Flow.\n",
    "    ir: Interest rate.\n",
    "    tax: Tax rate.\n",
    "    net_debt: Net Borrowing.\n",
    "    \"\"\"\n",
    "    return fcf - (ir * (1 - tax) + net_debt) \n",
    "\n",
    "def get_revenue(m_size, m_share, price):\n",
    "    \"\"\"Revenue.\n",
    "    ----------------\n",
    "    m_size: Market Size.\n",
    "    m_share: Market Share.\n",
    "    price: Price.\n",
    "    \"\"\"\n",
    "    return m_size * m_share * price\n",
    "\n",
    "def get_cost(c_marginal, rev, cogs, rnd):\n",
    "    \"\"\"Cost.\n",
    "    ----------------\n",
    "    c_marginal: Marginal Cost.\n",
    "    rev: Revenue.\n",
    "    cogs: Cost of Goods Sold.\n",
    "    rnd: Research and Development.\n",
    "    \"\"\"\n",
    "    return c_marginal * rev + cogs + rnd\n",
    "\n",
    "\n",
    "def get_nwc(cash, inventory, ar, ap):\n",
    "    \"\"\"Net Working Capital.\n",
    "    Money tied up in inventory, accounts receivable, and accounts payable.\n",
    "    Accounts receivable is the amount owed to the company by its customers.\n",
    "    Accounts payable is the amount owed by the company to its suppliers.\n",
    "    ----------------\n",
    "    cash: Cash.\n",
    "    inventory: Inventory.\n",
    "    ar: Accounts Receivable.\n",
    "    ap: Accounts Payable.\n",
    "    \"\"\"\n",
    "    return cash + inventory + ar - ap"
   ]
  },
  {
   "attachments": {},
   "cell_type": "markdown",
   "metadata": {},
   "source": [
    "Q1:\n",
    "Question 1\n",
    "GoPro's earnings before interest and taxes (EBIT) was \n",
    "$190 million.\n",
    "\n",
    "Assuming GoPro's tax rate is \n",
    "35%, what is their net operating profit after taxes (NOPAT) for 2014 expressed in millions of dollars?"
   ]
  },
  {
   "cell_type": "code",
   "execution_count": 14,
   "metadata": {},
   "outputs": [
    {
     "data": {
      "text/plain": [
       "123.5"
      ]
     },
     "execution_count": 14,
     "metadata": {},
     "output_type": "execute_result"
    }
   ],
   "source": [
    "get_ebiat(ebit=190, tax=0.35)"
   ]
  },
  {
   "attachments": {},
   "cell_type": "markdown",
   "metadata": {},
   "source": [
    "Q2:\n",
    "Fusion Energy Co’s earnings before interest and taxes (EBIT) was \n",
    "$275 million.\n",
    "\n",
    "Assuming Fusion Energy’s tax rate is \n",
    "25%, what is their net operating profit after taxes (NOPAT) for 2015 expressed in millions of dollars?"
   ]
  },
  {
   "cell_type": "code",
   "execution_count": 15,
   "metadata": {},
   "outputs": [
    {
     "data": {
      "text/plain": [
       "206.25"
      ]
     },
     "execution_count": 15,
     "metadata": {},
     "output_type": "execute_result"
    }
   ],
   "source": [
    "get_ebiat(ebit=275, tax=0.25)"
   ]
  },
  {
   "attachments": {},
   "cell_type": "markdown",
   "metadata": {},
   "source": [
    "Q3:\n",
    "Momo’s Candy Inc.’s earnings before interest and taxes (EBIT) was \n",
    "$12 million.\n",
    "\n",
    "Assuming Momo’s Candy’s tax rate is \n",
    "10%, what is their net operating profit after taxes (NOPAT) for 2013 expressed in millions of dollars?"
   ]
  },
  {
   "cell_type": "code",
   "execution_count": 16,
   "metadata": {},
   "outputs": [
    {
     "data": {
      "text/plain": [
       "10.8"
      ]
     },
     "execution_count": 16,
     "metadata": {},
     "output_type": "execute_result"
    }
   ],
   "source": [
    "get_ebiat(ebit=12, tax=0.10)"
   ]
  },
  {
   "attachments": {},
   "cell_type": "markdown",
   "metadata": {},
   "source": [
    "Q4: \n",
    "Fragile Express Delivery Company’s earnings before interest and taxes (EBIT) was \n",
    "$725 million.\n",
    "\n",
    "Assuming Fragile Express Delivery’s tax rate is \n",
    "37%, what is their net operating profit after taxes (NOPAT) for 2019 expressed in millions of dollars?"
   ]
  },
  {
   "cell_type": "code",
   "execution_count": 17,
   "metadata": {},
   "outputs": [
    {
     "data": {
      "text/plain": [
       "456.75"
      ]
     },
     "execution_count": 17,
     "metadata": {},
     "output_type": "execute_result"
    }
   ],
   "source": [
    "get_ebiat(ebit=725, tax=0.37)"
   ]
  },
  {
   "attachments": {},
   "cell_type": "markdown",
   "metadata": {},
   "source": [
    "Q5:\n",
    "In 2014, GoPro spent \n",
    "$27.5 million on capital expenditures, experienced an increase in net working capital (including cash) equal to \n",
    "$239 million, and realized \n",
    "$18 million in depreciation.\n",
    "\n",
    "What is GoPro's unlevered free cash flow for 2014?"
   ]
  },
  {
   "cell_type": "code",
   "execution_count": 18,
   "metadata": {},
   "outputs": [
    {
     "data": {
      "text/plain": [
       "-125.0"
      ]
     },
     "execution_count": 18,
     "metadata": {},
     "output_type": "execute_result"
    }
   ],
   "source": [
    "ebiat = get_ebiat(ebit=190, tax=0.35) # see Q1\n",
    "get_fcf_from_ebiat(ebiat=ebiat, depr=18, capex=27.5, dnwc=239)"
   ]
  },
  {
   "attachments": {},
   "cell_type": "markdown",
   "metadata": {},
   "source": [
    "Q6:\n",
    "In 2015, Fusion Energy spent \n",
    "$30 million on capital expenditures, experienced a decrease in net working capital (including cash) equal to \n",
    "$70 million, and realized \n",
    "$10 million in depreciation.\n",
    "\n",
    "What is Fusion Energy’s unlevered free cash flow for 2015?"
   ]
  },
  {
   "cell_type": "code",
   "execution_count": 22,
   "metadata": {},
   "outputs": [
    {
     "data": {
      "text/plain": [
       "256.25"
      ]
     },
     "execution_count": 22,
     "metadata": {},
     "output_type": "execute_result"
    }
   ],
   "source": [
    "ebiat = get_ebiat(ebit=275, tax=0.25) # see Q2\n",
    "get_fcf_from_ebiat(ebiat=ebiat, depr=10, capex=30, dnwc=-70)"
   ]
  },
  {
   "attachments": {},
   "cell_type": "markdown",
   "metadata": {},
   "source": [
    "Q7:\n",
    "In 2013, Momo’s Candy spent \n",
    "$2 million on capital expenditures, experienced an increase in net working capital (including cash) equal to \n",
    "$3 million, and realized -0.5 million in depreciation.\n",
    "\n",
    "What is Momo’s Candy’s unlevered free cash flow for 2013?"
   ]
  },
  {
   "cell_type": "code",
   "execution_count": 20,
   "metadata": {},
   "outputs": [
    {
     "data": {
      "text/plain": [
       "5.300000000000001"
      ]
     },
     "execution_count": 20,
     "metadata": {},
     "output_type": "execute_result"
    }
   ],
   "source": [
    "ebiat = get_ebiat(ebit=12, tax=0.10) # see Q3\n",
    "get_fcf_from_ebiat(ebiat=ebiat, depr=-0.5, capex=2, dnwc=3)"
   ]
  },
  {
   "attachments": {},
   "cell_type": "markdown",
   "metadata": {},
   "source": [
    "Q8:\n",
    "In 2019, Fragile Express Delivery spent \n",
    "$28.9 million on capital expenditures, experienced a decrease in net working capital (including cash) equal to \n",
    "$72.8 million, and realized \n",
    "$26 million in depreciation. \n",
    "Fragile Express Delivery Company’s earnings before interest and taxes (EBIT) was \n",
    "$725 million.\n",
    "\n",
    "Assuming Fragile Express Delivery’s tax rate is \n",
    "37%, what is Fragile Express Delivery’s unlevered free cash flow for 2019?"
   ]
  },
  {
   "cell_type": "code",
   "execution_count": 23,
   "metadata": {},
   "outputs": [
    {
     "data": {
      "text/plain": [
       "526.6800000000001"
      ]
     },
     "execution_count": 23,
     "metadata": {},
     "output_type": "execute_result"
    }
   ],
   "source": [
    "ebiat = get_ebiat(ebit=725, tax=0.37)\n",
    "get_fcf_from_ebiat(ebiat=ebiat, depr=26, capex=28.9, dnwc=-72.83)"
   ]
  },
  {
   "attachments": {},
   "cell_type": "markdown",
   "metadata": {},
   "source": [
    "Q9:\n",
    "What does a negative value for unlevered free cash flow imply for the claimants of a firm?\n",
    "\n",
    "-> The firm must raise capital from the capital markets (e.g., debt, equity), or liquidate internal assets (e.g., cash)\n",
    "\n",
    "(The firm is not generating enough cash to pay its debt obligations.)"
   ]
  },
  {
   "attachments": {},
   "cell_type": "markdown",
   "metadata": {},
   "source": [
    "Q10:\n",
    "True/False: When a firm changes its capital structure by issuing or retiring debt, for example, this change alters the firms unlevered free cash flow.\n",
    "\n",
    "-> False"
   ]
  }
 ],
 "metadata": {
  "kernelspec": {
   "display_name": "nn",
   "language": "python",
   "name": "python3"
  },
  "language_info": {
   "codemirror_mode": {
    "name": "ipython",
    "version": 3
   },
   "file_extension": ".py",
   "mimetype": "text/x-python",
   "name": "python",
   "nbconvert_exporter": "python",
   "pygments_lexer": "ipython3",
   "version": "3.11.0"
  },
  "orig_nbformat": 4
 },
 "nbformat": 4,
 "nbformat_minor": 2
}
