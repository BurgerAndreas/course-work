{
 "cells": [
  {
   "cell_type": "code",
   "execution_count": 55,
   "metadata": {},
   "outputs": [],
   "source": [
    "import numpy as np\n",
    "import math as m"
   ]
  },
  {
   "attachments": {},
   "cell_type": "markdown",
   "metadata": {},
   "source": [
    "# Interest Rates"
   ]
  },
  {
   "cell_type": "code",
   "execution_count": 56,
   "metadata": {},
   "outputs": [],
   "source": [
    "def periodic_interest_rate(apr, k):\n",
    "    \"\"\"Periodic interest rate.\n",
    "    apr: annual percentage rate\n",
    "    k: number of compounding periods per year\n",
    "    returns: periodic interest rate i\n",
    "    \"\"\"\n",
    "    return apr / k\n",
    "\n",
    "def effective_annual_rate(i, k):\n",
    "    \"\"\"Effective annual rate.\n",
    "    i: periodic interest rate\n",
    "    k: number of compounding periods per year\n",
    "    returns: effective annual rate EAR\n",
    "    \"\"\"\n",
    "    return ((1 + i) ** k) - 1\n",
    "\n",
    "def cashflow_annuity(t_end, pv, i, k):\n",
    "    \"\"\"Cashflow annuity.\n",
    "    pv: present value\n",
    "    apr: annual percentage rate\n",
    "    k: number of compounding periods per year\n",
    "    returns: cashflow per period\n",
    "    \"\"\"\n",
    "    return (pv * i) / (1 - (1 + i) ** (-t_end*k))\n",
    "\n",
    "def ir_compounding(t_end, pv, i, k):\n",
    "    \"\"\"Interest rate compounding.\n",
    "    Calculate the future value of an investment.\n",
    "    Calculated periodically (equivalently would be annually using EAR).\n",
    "    t_end: number of years\n",
    "    pv: present value\n",
    "    i: periodic interest rate\n",
    "    k: number of compounding periods per year\n",
    "    returns: future value\n",
    "    \"\"\"\n",
    "    return pv * ((1 + i) ** (t_end*k))"
   ]
  },
  {
   "attachments": {},
   "cell_type": "markdown",
   "metadata": {},
   "source": [
    "Q1:\n",
    "You have just purchased a home by borrowing \n",
    "$400,000 for 30-years at a fixed APR of \n",
    "3.87%. The loan payments are monthly and interest is compounded monthly.\n",
    "\n",
    "What is the periodic interest rate? (I.e., what is the monthly interest rate?)"
   ]
  },
  {
   "cell_type": "code",
   "execution_count": 57,
   "metadata": {},
   "outputs": [
    {
     "data": {
      "text/plain": [
       "0.003225"
      ]
     },
     "execution_count": 57,
     "metadata": {},
     "output_type": "execute_result"
    }
   ],
   "source": [
    "periodic_interest_rate(apr=0.0387, k=12)"
   ]
  },
  {
   "attachments": {},
   "cell_type": "markdown",
   "metadata": {},
   "source": [
    "Q2:\n",
    "You have just purchased a home by borrowing \n",
    "$400,000 for 30-years at a fixed APR of \n",
    "3.87%. The loan payments are monthly and interest is compounded monthly.\n",
    "\n",
    "What is the effective annual rate on the loan? (I.e., what is the interest rate once we take into account compounding?)"
   ]
  },
  {
   "cell_type": "code",
   "execution_count": 58,
   "metadata": {},
   "outputs": [
    {
     "name": "stdout",
     "output_type": "stream",
     "text": [
      "0.03939387431641106\n"
     ]
    }
   ],
   "source": [
    "i = periodic_interest_rate(apr=0.0387, k=12)\n",
    "ear = effective_annual_rate(i=i, k=12)\n",
    "print(ear)"
   ]
  },
  {
   "attachments": {},
   "cell_type": "markdown",
   "metadata": {},
   "source": [
    "Q3:\n",
    "You have just purchased a home by borrowing \n",
    "$400,000 for 30-years at a fixed APR of \n",
    "3.87%. What is the monthly mortgage payment?  \n",
    "\n",
    "(Hint: A mortgage is just an annuity where the borrowed amount is the present value of the annuity.\n",
    "\n",
    "So, use the annuity formula, but solved for the cash flow in terms of the present value:\n",
    "$$\n",
    "CF = \\frac{PV \\cdot \\frac{R}{k}}{1 + \\left( 1 + \\frac{R}{k} \\right)^{-T \\cdot k}}\n",
    "$$"
   ]
  },
  {
   "cell_type": "code",
   "execution_count": 59,
   "metadata": {},
   "outputs": [
    {
     "name": "stdout",
     "output_type": "stream",
     "text": [
      "1.8798045276462518\n"
     ]
    }
   ],
   "source": [
    "pv = 400\n",
    "i = periodic_interest_rate(apr=0.0387, k=12)\n",
    "cf = cashflow_annuity(t_end=30, pv=pv, i=i, k=12)\n",
    "print(cf)"
   ]
  },
  {
   "attachments": {},
   "cell_type": "markdown",
   "metadata": {},
   "source": [
    "Q4:\n",
    "You invest \n",
    "$100 into a CD offering 5% APR with semi-annual compounding (i.e., two times per year).\n",
    "\n",
    "How much money will you have in the account after 1 year?"
   ]
  },
  {
   "cell_type": "code",
   "execution_count": 60,
   "metadata": {},
   "outputs": [
    {
     "data": {
      "text/plain": [
       "105.06249999999999"
      ]
     },
     "execution_count": 60,
     "metadata": {},
     "output_type": "execute_result"
    }
   ],
   "source": [
    "i = periodic_interest_rate(apr=0.05, k=2)\n",
    "ir_compounding(t_end=1, pv=100, i=i, k=2)"
   ]
  },
  {
   "attachments": {},
   "cell_type": "markdown",
   "metadata": {},
   "source": [
    "Q5:\n",
    "You put \n",
    "$1,000 into a savings account today that offers a \n",
    "5% APR with semi-annual compounding (i.e., two times per year).\n",
    "\n",
    "How much money will you have in the account after 2 years?"
   ]
  },
  {
   "cell_type": "code",
   "execution_count": 61,
   "metadata": {},
   "outputs": [
    {
     "data": {
      "text/plain": [
       "1103.8128906249995"
      ]
     },
     "execution_count": 61,
     "metadata": {},
     "output_type": "execute_result"
    }
   ],
   "source": [
    "i = periodic_interest_rate(apr=0.05, k=2)\n",
    "ir_compounding(t_end=2, pv=1000, i=i, k=2)"
   ]
  },
  {
   "attachments": {},
   "cell_type": "markdown",
   "metadata": {},
   "source": [
    "Q6: You put \n",
    "$1,000 into a savings account today that offers a \n",
    "5% APR with semi-annual compounding (i.e., two times per year).\n",
    "\n",
    "What is the effective annual rate of the saving account?"
   ]
  },
  {
   "cell_type": "code",
   "execution_count": 66,
   "metadata": {},
   "outputs": [
    {
     "name": "stdout",
     "output_type": "stream",
     "text": [
      "0.05062499999999992\n",
      "0.10124999999999984\n"
     ]
    }
   ],
   "source": [
    "# TODO\n",
    "i = periodic_interest_rate(apr=0.05, k=2)\n",
    "ear = effective_annual_rate(i=i, k=2)\n",
    "print(ear)\n",
    "print('Correct answer: 0.1025')"
   ]
  },
  {
   "attachments": {},
   "cell_type": "markdown",
   "metadata": {},
   "source": [
    "Q7:\n",
    "Consider the following figure that presents three yield curves: \n",
    "\n",
    "Based on the yield curves in the figure, what is the approximate cost of borrowing for highly rated corporate borrowers over a 5-year term?\n",
    "\n",
    "-> 2.27% (HQM Corporate curve at 5 years maturity)"
   ]
  },
  {
   "attachments": {},
   "cell_type": "markdown",
   "metadata": {},
   "source": [
    "Q8:\n",
    "Consider the following figure that presents three yield curves:\n",
    "\n",
    "Based on the yield curves in the figure, what is the approximate cost of borrowing for highly rated corporate borrowers over a 20-year term?\n",
    "\n",
    "-> 2.27% (HQM Corporate curve at 20 years maturity)\n"
   ]
  },
  {
   "attachments": {},
   "cell_type": "markdown",
   "metadata": {},
   "source": [
    "Q9:\n",
    "A one-year zero coupon bond costs \n",
    "$99.43 today. Exactly one year from today, it will pay \n",
    "$100.\n",
    "\n",
    "What is the annual yield-to-maturity of the bond? (I.e., what is the discount rate one needs to use to get the price of the bond given the future cash flow of \n",
    "$100 in one year?)"
   ]
  },
  {
   "cell_type": "code",
   "execution_count": 64,
   "metadata": {},
   "outputs": [
    {
     "name": "stdout",
     "output_type": "stream",
     "text": [
      "0.005732676254651459\n"
     ]
    }
   ],
   "source": [
    "# nv1 = pv * (1 + yr)\n",
    "# yr = nv1 / pv - 1\n",
    "\n",
    "pv = 99.43\n",
    "nv1 = 100\n",
    "\n",
    "yr = nv1 / pv - 1\n",
    "print(yr)"
   ]
  },
  {
   "attachments": {},
   "cell_type": "markdown",
   "metadata": {},
   "source": [
    "Q10:\n",
    "You have a treasury bond that pays \n",
    "$100 one year from today and \n",
    "$1,100 two years from today.\n",
    "\n",
    "You notice that the yield-to-maturity on a one year-zero coupon treasury bond is\n",
    "1% and the yield-to-maturity on a two year-zero coupon treasury bond is \n",
    "2%. What should the price of your bond be?"
   ]
  },
  {
   "cell_type": "code",
   "execution_count": 67,
   "metadata": {},
   "outputs": [
    {
     "name": "stdout",
     "output_type": "stream",
     "text": [
      "1156.2955603518828\n"
     ]
    }
   ],
   "source": [
    "# pv = (nv1 / (1 + yr1)) + (nv2 / (1 + yr2))\n",
    "\n",
    "yr1 = 0.01\n",
    "yr2 = 0.02\n",
    "nv1 = 100 # CF\n",
    "nv2 = 1100 # CF\n",
    "\n",
    "pv = (nv1 / (1 + yr1)) + (nv2 / (1 + yr2)**2)\n",
    "print(pv)"
   ]
  },
  {
   "cell_type": "code",
   "execution_count": null,
   "metadata": {},
   "outputs": [],
   "source": []
  }
 ],
 "metadata": {
  "kernelspec": {
   "display_name": "nn",
   "language": "python",
   "name": "python3"
  },
  "language_info": {
   "codemirror_mode": {
    "name": "ipython",
    "version": 3
   },
   "file_extension": ".py",
   "mimetype": "text/x-python",
   "name": "python",
   "nbconvert_exporter": "python",
   "pygments_lexer": "ipython3",
   "version": "3.11.0"
  },
  "orig_nbformat": 4
 },
 "nbformat": 4,
 "nbformat_minor": 2
}
